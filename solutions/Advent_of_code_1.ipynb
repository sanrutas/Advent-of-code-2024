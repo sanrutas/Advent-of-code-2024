{
 "cells": [
  {
   "cell_type": "code",
   "execution_count": null,
   "id": "4ea92f6b-9d42-41cd-8e88-20d6fdefa3a7",
   "metadata": {},
   "outputs": [],
   "source": [
    "import pandas as pd\n",
    "with open(\"inputs/input_day_1.txt\", 'r') as textfile:\n",
    "    input = textfile.read().splitlines()"
   ]
  },
  {
   "cell_type": "code",
   "execution_count": null,
   "id": "c10050d2-3745-4ced-8218-14bef26cff7c",
   "metadata": {},
   "outputs": [],
   "source": [
    "# Part 1: \n",
    "df = pd.DataFrame([line.split() for line in input], columns=['Column1', 'Column2']).astype(int)\n",
    "for col in df:\n",
    "    df[col] = df[col].sort_values(ignore_index=True)\n",
    "df['Absolute_Difference'] = (df['Column1'] - df['Column2']).abs()\n",
    "df['Absolute_Difference'].sum()"
   ]
  },
  {
   "cell_type": "code",
   "execution_count": null,
   "id": "3e898ca6-e29c-4094-9503-e946b2d281d7",
   "metadata": {},
   "outputs": [],
   "source": [
    "# Part 2:\n",
    "df['Count'] = df['Column1'].apply(lambda x: (df['Column2'] == x).sum())\n",
    "df['Product'] = (df['Column1'] * df['Count'])\n",
    "df['Product'].sum()"
   ]
  }
 ],
 "metadata": {
  "kernelspec": {
   "display_name": "Python 3 (ipykernel)",
   "language": "python",
   "name": "python3"
  },
  "language_info": {
   "codemirror_mode": {
    "name": "ipython",
    "version": 3
   },
   "file_extension": ".py",
   "mimetype": "text/x-python",
   "name": "python",
   "nbconvert_exporter": "python",
   "pygments_lexer": "ipython3",
   "version": "3.11.7"
  }
 },
 "nbformat": 4,
 "nbformat_minor": 5
}
