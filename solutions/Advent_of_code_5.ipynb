{
 "cells": [
  {
   "cell_type": "code",
   "execution_count": 1,
   "id": "472af61c",
   "metadata": {},
   "outputs": [],
   "source": [
    "import numpy as np\n",
    "import statistics\n",
    "input = open(\"inputs/input_day_5.txt\", \"r\").read().splitlines()"
   ]
  },
  {
   "cell_type": "code",
   "execution_count": null,
   "id": "7ff6068f-5ae2-4e89-812b-c0e1880a2964",
   "metadata": {},
   "outputs": [],
   "source": [
    "# PARTS 1 and 2\n",
    "\n",
    "rules = [[int(x) for x in row.split('|')]for row in input if '|' in row and row]\n",
    "updates = [[int(x) for x in row.split(',')] for row in input if '|' not in row and row]\n",
    "\n",
    "filtered_sets = {}\n",
    "for update in updates:\n",
    "    relevent_rules = []\n",
    "    for rule in rules:\n",
    "        if all(num in update for num in rule):\n",
    "            relevent_rules.append(rule)\n",
    "    filtered_sets.update({tuple(update): relevent_rules})\n",
    "\n",
    "def rule_checker(update, rules):\n",
    "    level = {}\n",
    "    for num in update:\n",
    "        level[num] = 0\n",
    "    for rule in rules:\n",
    "        if rule[1] in level: \n",
    "            level[rule[1]] +=1\n",
    "    seq = []\n",
    "    for num in update:\n",
    "        seq.append(level[num])\n",
    "    if all(x <= y for x, y in zip(seq, seq[1:])):\n",
    "        return update\n",
    "    else: \n",
    "        sorted_update = sorted(level, key=level.get)\n",
    "        return sorted_update\n",
    "        \n",
    "good_sum = 0\n",
    "bad_sum = 0\n",
    "for update in updates:\n",
    "    result = rule_checker(update, filtered_sets[tuple(update)])\n",
    "    if result == update:\n",
    "        good_sum += update[len(update)//2]\n",
    "    else: \n",
    "        bad_sum += result[len(result)//2]\n",
    "print( \n",
    "    f'Part 1: {good_sum} \\n'\n",
    "    f'Part 2: {bad_sum}'\n",
    ")"
   ]
  }
 ],
 "metadata": {
  "kernelspec": {
   "display_name": "Python 3 (ipykernel)",
   "language": "python",
   "name": "python3"
  },
  "language_info": {
   "codemirror_mode": {
    "name": "ipython",
    "version": 3
   },
   "file_extension": ".py",
   "mimetype": "text/x-python",
   "name": "python",
   "nbconvert_exporter": "python",
   "pygments_lexer": "ipython3",
   "version": "3.11.7"
  }
 },
 "nbformat": 4,
 "nbformat_minor": 5
}
