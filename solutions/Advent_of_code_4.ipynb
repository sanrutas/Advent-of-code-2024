{
 "cells": [
  {
   "cell_type": "code",
   "execution_count": 1,
   "id": "d966cace-a815-48f9-8e96-a693ee2810ad",
   "metadata": {},
   "outputs": [],
   "source": [
    "import re\n",
    "import numpy as np"
   ]
  },
  {
   "cell_type": "code",
   "execution_count": null,
   "id": "a251c190-4c19-4983-9a2e-0d120be15862",
   "metadata": {},
   "outputs": [],
   "source": [
    "# 4 PART 1\n",
    "text = open(\"inputs/input_day_4.txt\", \"r\").read().splitlines()\n",
    "\n",
    "text_array = np.array([list(row) for row in text]) \n",
    "rows, cols = text_array.shape\n",
    "xmas = r'(?=(XMAS|SAMX))'\n",
    "a = 0\n",
    "\n",
    "for row in text:\n",
    "    a += len(re.findall(xmas, row)) \n",
    "\n",
    "for col in range(cols):\n",
    "    vertical_string = ''.join(text_array[:, col])  \n",
    "    a += len(re.findall(xmas, vertical_string))  \n",
    "\n",
    "for offset in range(-rows + 1, cols):\n",
    "    start_row = max(0, offset)\n",
    "    start_col = max(0, -offset)\n",
    "    diagonal_length = min(rows - start_row, cols - start_col)  \n",
    "    diagonal_characters = [text_array[start_row + i][start_col + i] for i in range(diagonal_length)]  \n",
    "    diagonal_tl_to_rb = ''.join(diagonal_characters) \n",
    "    a += len(re.findall(xmas, diagonal_tl_to_rb))\n",
    "\n",
    "for offset in range(rows + cols - 1):  \n",
    "    start_row = max(0, offset - cols + 1)  \n",
    "    start_col = min(cols - 1, offset)  \n",
    "    diagonal_length = min(start_col + 1, rows - start_row)  \n",
    "    diagonal_characters = [text_array[start_row + i][start_col - i] for i in range(diagonal_length)]  \n",
    "    diagonal_tr_to_lb = ''.join(diagonal_characters)  \n",
    "    a += len(re.findall(xmas, diagonal_tr_to_lb))  \n",
    "\n",
    "a"
   ]
  },
  {
   "cell_type": "code",
   "execution_count": null,
   "id": "3962d729-2c71-4e03-b453-2097a1db9e1e",
   "metadata": {},
   "outputs": [],
   "source": [
    "# 4 PART 2\n",
    "\n",
    "rows, cols = text_array.shape\n",
    "mas = r'(?=(MAS|SAM))'\n",
    "a2 = 0\n",
    "\n",
    "for row in range(rows-2):\n",
    "    for col in range(cols-2):\n",
    "        diagonal_tl_to_br = [text_array[row + i][col + i] for i in range(3)] \n",
    "        diagonal_bl_to_tr = [text_array[row + 2 - i][col + i] for i in range(3)]\n",
    "        x1 = ''.join(diagonal_tl_to_br)\n",
    "        x2 = ''.join(diagonal_bl_to_tr)\n",
    "        if re.match(mas, x1) and re.match(mas, x2):\n",
    "            a2 += 1\n",
    "a2"
   ]
  }
 ],
 "metadata": {
  "kernelspec": {
   "display_name": "Python 3 (ipykernel)",
   "language": "python",
   "name": "python3"
  },
  "language_info": {
   "codemirror_mode": {
    "name": "ipython",
    "version": 3
   },
   "file_extension": ".py",
   "mimetype": "text/x-python",
   "name": "python",
   "nbconvert_exporter": "python",
   "pygments_lexer": "ipython3",
   "version": "3.11.7"
  }
 },
 "nbformat": 4,
 "nbformat_minor": 5
}
