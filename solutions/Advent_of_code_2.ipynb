{
 "cells": [
  {
   "cell_type": "code",
   "execution_count": 6,
   "id": "c4f3279d-4085-44f3-b511-5b3bdabfdc59",
   "metadata": {},
   "outputs": [],
   "source": [
    "import numpy as np\n",
    "import pandas as pd"
   ]
  },
  {
   "cell_type": "code",
   "execution_count": null,
   "id": "2d3fff17-bff8-4fd5-a42b-381b2d69aa0e",
   "metadata": {},
   "outputs": [],
   "source": [
    "# Part 1:\n",
    "df = pd.read_csv('inputs/input_day_2.txt', sep='\\s+', header=None)\n",
    "\n",
    "def check_row(row):\n",
    "    values = row.dropna().values\n",
    "    decreasing = all(x > y for x, y in zip(values, values[1:]))\n",
    "    increasing = all(x < y for x, y in zip(values, values[1:]))\n",
    "    monotonicity = 1 if increasing or decreasing else 0\n",
    "    is_dif = 1 if all(y - 3 <= x <= y + 3 and x != y for x, y in zip(values, values[1:])) else 0\n",
    "    return monotonicity * is_dif\n",
    "        \n",
    "df['is_dif1'] = df.apply(check_row, axis=1)\n",
    "df['is_dif1'].sum()"
   ]
  },
  {
   "cell_type": "code",
   "execution_count": null,
   "id": "50c8d253-6992-41d9-8c99-ceaac3fe20cc",
   "metadata": {},
   "outputs": [],
   "source": [
    "# Part 2:\n",
    "df = pd.read_csv('inputs/input_day_2.txt', sep='\\s+', header=None)\n",
    "def check_row2(row):\n",
    "    values = row.dropna().values\n",
    "    decreasing = all(x > y for x, y in zip(values, values[1:]))\n",
    "    increasing = all(x < y for x, y in zip(values, values[1:]))\n",
    "    monotonicity = 1 if increasing or decreasing else 0\n",
    "    is_dif = 1 if all(y - 3 <= x <= y + 3 and x != y for x, y in zip(values, values[1:])) else 0\n",
    "    if monotonicity * is_dif == 1:\n",
    "        return 1\n",
    "    \n",
    "    for i in range(len(values)):\n",
    "        modified_values = np.delete(values, i)\n",
    "        decreasing = all(x > y for x, y in zip(modified_values, modified_values[1:]))\n",
    "        increasing = all(x < y for x, y in zip(modified_values, modified_values[1:]))\n",
    "        monotonicity = 1 if (increasing or decreasing) else 0\n",
    "        is_dif = 1 if all(abs(y - x) <= 3 and abs(y - x) >= 1 for x, y in zip(modified_values, modified_values[1:])) else 0\n",
    "        if monotonicity * is_dif == 1:\n",
    "            return 1\n",
    "    return 0\n",
    "    \n",
    "df['is_dif2'] = df.iloc[:,0:8].apply(check_row2, axis=1)\n",
    "df['is_dif2'].sum()"
   ]
  }
 ],
 "metadata": {
  "kernelspec": {
   "display_name": "Python 3 (ipykernel)",
   "language": "python",
   "name": "python3"
  },
  "language_info": {
   "codemirror_mode": {
    "name": "ipython",
    "version": 3
   },
   "file_extension": ".py",
   "mimetype": "text/x-python",
   "name": "python",
   "nbconvert_exporter": "python",
   "pygments_lexer": "ipython3",
   "version": "3.11.7"
  }
 },
 "nbformat": 4,
 "nbformat_minor": 5
}
