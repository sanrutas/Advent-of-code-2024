{
 "cells": [
  {
   "cell_type": "code",
   "execution_count": 28,
   "id": "7d3113e4-d196-4072-bd85-0e8578e112f3",
   "metadata": {},
   "outputs": [
    {
     "data": {
      "text/plain": [
       "130"
      ]
     },
     "execution_count": 28,
     "metadata": {},
     "output_type": "execute_result"
    }
   ],
   "source": [
    "import numpy as np\n",
    "import statistics\n",
    "input = open(\"input_day_6.txt\", \"r\").read().splitlines()\n",
    "len(input)"
   ]
  },
  {
   "cell_type": "code",
   "execution_count": 30,
   "id": "407a3a60-2933-480a-ae49-5f3a2efa504a",
   "metadata": {},
   "outputs": [
    {
     "data": {
      "text/plain": [
       "[['.', '.', '.', '.', '#', '.', '.', '.', '.', '.'],\n",
       " ['.', '.', '.', '.', '.', '.', '.', '.', '.', '#'],\n",
       " ['.', '.', '.', '.', '.', '.', '.', '.', '.', '.'],\n",
       " ['.', '.', '#', '.', '.', '.', '.', '.', '.', '.'],\n",
       " ['.', '.', '.', '.', '.', '.', '.', '#', '.', '.'],\n",
       " ['.', '.', '.', '.', '.', '.', '.', '.', '.', '.'],\n",
       " ['.', '#', '.', '.', '^', '.', '.', '.', '.', '.'],\n",
       " ['.', '.', '.', '.', '.', '.', '.', '.', '#', '.'],\n",
       " ['#', '.', '.', '.', '.', '.', '.', '.', '.', '.'],\n",
       " ['.', '.', '.', '.', '.', '.', '#', '.', '.', '.']]"
      ]
     },
     "execution_count": 30,
     "metadata": {},
     "output_type": "execute_result"
    }
   ],
   "source": [
    "sample = [\n",
    "    '....#.....',\n",
    "    '.........#',\n",
    "    '..........',\n",
    "    '..#.......',\n",
    "    '.......#..',\n",
    "    '..........',\n",
    "    '.#..^.....',\n",
    "    '........#.',\n",
    "    '#.........',\n",
    "    '......#...'\n",
    "]\n",
    "sample\n",
    "map = [list(r) for r in sample]\n",
    "map"
   ]
  },
  {
   "cell_type": "code",
   "execution_count": 5,
   "id": "c870ea75-cf59-4fb1-83d7-03b58f7f114b",
   "metadata": {},
   "outputs": [
    {
     "data": {
      "text/plain": [
       "4722"
      ]
     },
     "execution_count": 5,
     "metadata": {},
     "output_type": "execute_result"
    }
   ],
   "source": [
    "def checker(map):\n",
    "    for r in range(len(map)):\n",
    "        if '^' in map[r]:\n",
    "            col = map[r].index('^')\n",
    "            row = r\n",
    "            break\n",
    "    \n",
    "    while True:\n",
    "        try:    \n",
    "            while map[row-1][col] != '#':\n",
    "                map[row][col] = 'X'\n",
    "                map[row-1][col] = '^'\n",
    "                row = row-1\n",
    "        except IndexError:\n",
    "            return map\n",
    "            #break\n",
    "            \n",
    "        try:        \n",
    "            while map[row][col+1] != '#':\n",
    "                map[row][col] = 'X'\n",
    "                map[row][col+1] = '^'\n",
    "                col = col+1\n",
    "        except IndexError:\n",
    "            return map\n",
    "    \n",
    "        try:\n",
    "            while map[row+1][col] != '#':\n",
    "                map[row][col] = 'X'\n",
    "                map[row+1][col] = '^'\n",
    "                row = row+1\n",
    "        except IndexError:\n",
    "            return map\n",
    "                    \n",
    "        try:    \n",
    "            while map[row][col-1] != '#':\n",
    "                map[row][col] = 'X'\n",
    "                map[row][col-1] = '^'\n",
    "                col = col-1\n",
    "        except IndexError:\n",
    "            return map\n",
    "            \n",
    "map = [list(r) for r in input]\n",
    "checker(map)\n",
    "\n",
    "total = 1\n",
    "for r in map:\n",
    "    for ch in r:\n",
    "        if ch == 'X':\n",
    "            total += 1\n",
    "total"
   ]
  },
  {
   "cell_type": "code",
   "execution_count": 6,
   "id": "4957c0b3-e498-4c80-9e3e-77da1f3d8a45",
   "metadata": {},
   "outputs": [
    {
     "data": {
      "text/plain": [
       "41"
      ]
     },
     "execution_count": 6,
     "metadata": {},
     "output_type": "execute_result"
    }
   ],
   "source": [
    "def checker(map):\n",
    "    for r in range(len(map)):\n",
    "        if '^' in map[r]:\n",
    "            col = map[r].index('^')\n",
    "            row = r\n",
    "            break\n",
    "    \n",
    "    while True:\n",
    "        try:    \n",
    "            while map[row-1][col] != '#':\n",
    "                map[row][col] = 'X'\n",
    "                map[row-1][col] = '^'\n",
    "                row = row-1\n",
    "        except IndexError:\n",
    "            return map\n",
    "            #break\n",
    "            \n",
    "        try:        \n",
    "            while map[row][col+1] != '#':\n",
    "                map[row][col] = 'X'\n",
    "                map[row][col+1] = '^'\n",
    "                col = col+1\n",
    "        except IndexError:\n",
    "            return map\n",
    "    \n",
    "        try:\n",
    "            while map[row+1][col] != '#':\n",
    "                map[row][col] = 'X'\n",
    "                map[row+1][col] = '^'\n",
    "                row = row+1\n",
    "        except IndexError:\n",
    "            return map\n",
    "                    \n",
    "        try:    \n",
    "            while map[row][col-1] != '#':\n",
    "                map[row][col] = 'X'\n",
    "                map[row][col-1] = '^'\n",
    "                col = col-1\n",
    "        except IndexError:\n",
    "            return map\n",
    "            \n",
    "map = [list(r) for r in sample]\n",
    "checker(map)\n",
    "map\n",
    "total = 1\n",
    "for r in map:\n",
    "    for ch in r:\n",
    "        if ch == 'X':\n",
    "            total += 1\n",
    "total"
   ]
  },
  {
   "cell_type": "code",
   "execution_count": 313,
   "id": "1263400e-6317-4744-8c69-29b92cdd15fd",
   "metadata": {},
   "outputs": [
    {
     "data": {
      "text/plain": [
       "[['.', '.', '.', '.', '#', '.', '.', '.', '.', '.'],\n",
       " ['.', '.', '.', '.', '.', '.', '.', '.', '.', '#'],\n",
       " ['.', '.', '.', '.', '.', '.', '.', '.', '.', '.'],\n",
       " ['.', '.', '#', '.', '.', '.', '.', '.', '.', '.'],\n",
       " ['.', '.', '.', '.', '.', '.', '.', '#', '.', '.'],\n",
       " ['.', '.', '.', '.', '.', '.', '.', '.', '.', '.'],\n",
       " ['.', '#', '.', '.', '^', '.', '.', '.', '.', '.'],\n",
       " ['.', '.', '.', '.', '.', '.', '.', '.', '#', '.'],\n",
       " ['#', '.', '.', '.', '.', '.', '.', '.', '.', '.'],\n",
       " ['.', '.', '.', '.', '.', '.', '#', '.', '.', '.']]"
      ]
     },
     "execution_count": 313,
     "metadata": {},
     "output_type": "execute_result"
    }
   ],
   "source": [
    "map = [list(r) for r in sample]\n",
    "map"
   ]
  },
  {
   "cell_type": "code",
   "execution_count": 63,
   "id": "20dbe6fc-33f0-4600-b9c1-ff8c3c21e756",
   "metadata": {},
   "outputs": [],
   "source": [
    "from tqdm import tqdm\n"
   ]
  },
  {
   "cell_type": "code",
   "execution_count": 79,
   "id": "ba422246-e477-4ef5-8ccf-f6d0521db29a",
   "metadata": {},
   "outputs": [
    {
     "name": "stdout",
     "output_type": "stream",
     "text": [
      "Part 1: 4722\n"
     ]
    },
    {
     "name": "stderr",
     "output_type": "stream",
     "text": [
      "100%|█████████████████████████████████████████████████████████████████████████████| 4721/4721 [00:08<00:00, 542.90it/s]\n"
     ]
    },
    {
     "name": "stdout",
     "output_type": "stream",
     "text": [
      "Part 2: 1602\n"
     ]
    }
   ],
   "source": [
    "from tqdm import tqdm\n",
    "\n",
    "input = open(\"input_day_6.txt\", \"r\").read().splitlines()\n",
    "map = [list(r) for r in input]\n",
    "\n",
    "for r in range(len(map)):\n",
    "    if '^' in map[r]:\n",
    "        col = map[r].index('^')\n",
    "        row = r\n",
    "        break\n",
    "input_row, input_col = row, col\n",
    "\n",
    "def collect_locations(map, directions, row, col):\n",
    "    pos = 0\n",
    "    checked = [(row, col)]\n",
    "    map[row][col] = '.'\n",
    "    while True:\n",
    "        new_row, new_col = row + directions[pos][0], col + directions[pos][1]\n",
    "        if not (0 <= new_row < len(map)) or not (0 <= new_col < len(map[0])):\n",
    "            return checked        \n",
    "        if map[new_row][new_col] == '.':\n",
    "            if (new_row, new_col) not in checked:\n",
    "                checked.append((new_row, new_col))\n",
    "            row = new_row\n",
    "            col = new_col\n",
    "        elif map[new_row][new_col] == '#':\n",
    "            pos = (pos + 1) % 4\n",
    "            \n",
    "directions = [(-1, 0), (0, 1), (1, 0), (0, -1)]\n",
    "coords = collect_locations(map, directions, row, col)\n",
    "\n",
    "print(f'Part 1:', len(coords))\n",
    "\n",
    "def count_loop(map, path_row, path_col, directions):\n",
    "    map[path_row][path_col] = '#'\n",
    "    row, col = input_row, input_col\n",
    "    states = set()\n",
    "    pos = 0\n",
    "    while True:\n",
    "        if (row, col, pos) in states:\n",
    "            map[path_row][path_col] = '.'\n",
    "            return True\n",
    "        else:\n",
    "            states.add((row, col, pos))\n",
    "        new_row, new_col = row + directions[pos][0], col + directions[pos][1]\n",
    "        if not (0 <= new_row < len(map)) or not (0 <= new_col < len(map[0])):\n",
    "            map[path_row][path_col] = '.'\n",
    "            break\n",
    "        if map[new_row][new_col] == '.':\n",
    "            row = new_row\n",
    "            col = new_col\n",
    "        elif map[new_row][new_col] == '#':\n",
    "            pos = (pos + 1) % 4\n",
    "count = 0\n",
    "coords = set(coords[1:])\n",
    "for row, col in tqdm(coords):\n",
    "    if count_loop(map, row, col, directions):\n",
    "        count += 1\n",
    "print(f'Part 2:', count)"
   ]
  },
  {
   "cell_type": "code",
   "execution_count": null,
   "id": "34fecdbe-a297-4c63-8ab6-5f6b7da7a2e1",
   "metadata": {},
   "outputs": [],
   "source": []
  },
  {
   "cell_type": "code",
   "execution_count": null,
   "id": "59da8f43-9e64-43ee-acd0-e0bf96d58fbb",
   "metadata": {},
   "outputs": [],
   "source": []
  },
  {
   "cell_type": "code",
   "execution_count": null,
   "id": "94d05c2c-9751-4ea0-98d4-35a05ddeff18",
   "metadata": {},
   "outputs": [],
   "source": []
  },
  {
   "cell_type": "code",
   "execution_count": null,
   "id": "148a8f46-9253-489e-8615-8c3a9393aa8f",
   "metadata": {},
   "outputs": [],
   "source": []
  },
  {
   "cell_type": "code",
   "execution_count": null,
   "id": "b2e208fb-b23b-41a0-9a48-5f4c9f6eeaaf",
   "metadata": {},
   "outputs": [],
   "source": []
  },
  {
   "cell_type": "code",
   "execution_count": null,
   "id": "c9da1d02-c8dc-4ee4-b537-275f08a2b4bc",
   "metadata": {},
   "outputs": [],
   "source": []
  },
  {
   "cell_type": "code",
   "execution_count": null,
   "id": "72f3236b-296d-400a-b866-28ef4ac74bf6",
   "metadata": {},
   "outputs": [],
   "source": []
  },
  {
   "cell_type": "code",
   "execution_count": null,
   "id": "3d67a026-11f4-41eb-8c98-a4afcbcd8f90",
   "metadata": {},
   "outputs": [],
   "source": []
  }
 ],
 "metadata": {
  "kernelspec": {
   "display_name": "Python 3 (ipykernel)",
   "language": "python",
   "name": "python3"
  },
  "language_info": {
   "codemirror_mode": {
    "name": "ipython",
    "version": 3
   },
   "file_extension": ".py",
   "mimetype": "text/x-python",
   "name": "python",
   "nbconvert_exporter": "python",
   "pygments_lexer": "ipython3",
   "version": "3.11.7"
  }
 },
 "nbformat": 4,
 "nbformat_minor": 5
}
