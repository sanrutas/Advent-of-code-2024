{
 "cells": [
  {
   "cell_type": "code",
   "execution_count": 3,
   "id": "7d3113e4-d196-4072-bd85-0e8578e112f3",
   "metadata": {},
   "outputs": [],
   "source": [
    "from tqdm import tqdm\n",
    "input = open(\"../inputs/input_day_6.txt\", \"r\").read().splitlines()"
   ]
  },
  {
   "cell_type": "code",
   "execution_count": 4,
   "id": "ba422246-e477-4ef5-8ccf-f6d0521db29a",
   "metadata": {},
   "outputs": [
    {
     "name": "stdout",
     "output_type": "stream",
     "text": [
      "Part 1: 4722\n"
     ]
    }
   ],
   "source": [
    "# PART 1: \n",
    "map = [list(r) for r in input]\n",
    "\n",
    "for r in range(len(map)):\n",
    "    if '^' in map[r]:\n",
    "        col = map[r].index('^')\n",
    "        row = r\n",
    "        break\n",
    "input_row, input_col = row, col\n",
    "\n",
    "def collect_locations(map, directions, row, col):\n",
    "    pos = 0\n",
    "    checked = [(row, col)]\n",
    "    map[row][col] = '.'\n",
    "    while True:\n",
    "        new_row, new_col = row + directions[pos][0], col + directions[pos][1]\n",
    "        if not (0 <= new_row < len(map)) or not (0 <= new_col < len(map[0])):\n",
    "            return checked        \n",
    "        if map[new_row][new_col] == '.':\n",
    "            if (new_row, new_col) not in checked:\n",
    "                checked.append((new_row, new_col))\n",
    "            row = new_row\n",
    "            col = new_col\n",
    "        elif map[new_row][new_col] == '#':\n",
    "            pos = (pos + 1) % 4\n",
    "            \n",
    "directions = [(-1, 0), (0, 1), (1, 0), (0, -1)]\n",
    "coords = collect_locations(map, directions, row, col)\n",
    "\n",
    "print(f'Part 1:', len(coords))"
   ]
  },
  {
   "cell_type": "code",
   "execution_count": 5,
   "id": "34fecdbe-a297-4c63-8ab6-5f6b7da7a2e1",
   "metadata": {},
   "outputs": [
    {
     "name": "stderr",
     "output_type": "stream",
     "text": [
      "100%|██████████| 4721/4721 [00:02<00:00, 1787.33it/s]"
     ]
    },
    {
     "name": "stdout",
     "output_type": "stream",
     "text": [
      "Part 2: 1602\n"
     ]
    },
    {
     "name": "stderr",
     "output_type": "stream",
     "text": [
      "\n"
     ]
    }
   ],
   "source": [
    "# PART 2:\n",
    "def count_loop(map, path_row, path_col, directions):\n",
    "    map[path_row][path_col] = '#'\n",
    "    row, col = input_row, input_col\n",
    "    states = set()\n",
    "    pos = 0\n",
    "    while True:\n",
    "        if (row, col, pos) in states:\n",
    "            map[path_row][path_col] = '.'\n",
    "            return True\n",
    "        else:\n",
    "            states.add((row, col, pos))\n",
    "        new_row, new_col = row + directions[pos][0], col + directions[pos][1]\n",
    "        if not (0 <= new_row < len(map)) or not (0 <= new_col < len(map[0])):\n",
    "            map[path_row][path_col] = '.'\n",
    "            break\n",
    "        if map[new_row][new_col] == '.':\n",
    "            row = new_row\n",
    "            col = new_col\n",
    "        elif map[new_row][new_col] == '#':\n",
    "            pos = (pos + 1) % 4\n",
    "count = 0\n",
    "coords = set(coords[1:])\n",
    "for row, col in tqdm(coords):\n",
    "    if count_loop(map, row, col, directions):\n",
    "        count += 1\n",
    "print(f'Part 2:', count)"
   ]
  }
 ],
 "metadata": {
  "kernelspec": {
   "display_name": "Pylearn",
   "language": "python",
   "name": "python3"
  },
  "language_info": {
   "codemirror_mode": {
    "name": "ipython",
    "version": 3
   },
   "file_extension": ".py",
   "mimetype": "text/x-python",
   "name": "python",
   "nbconvert_exporter": "python",
   "pygments_lexer": "ipython3",
   "version": "3.13.1"
  }
 },
 "nbformat": 4,
 "nbformat_minor": 5
}
