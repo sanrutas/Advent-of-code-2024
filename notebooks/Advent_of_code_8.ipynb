{
 "cells": [
  {
   "cell_type": "code",
   "execution_count": 2,
   "id": "c84effa7-7ebb-435a-82d8-a3c95a7b5a18",
   "metadata": {},
   "outputs": [],
   "source": [
    "from itertools import combinations\n",
    "from collections import defaultdict\n",
    "\n",
    "input = open(\"inputs/input_day_8.txt\", \"r\").read().splitlines()"
   ]
  },
  {
   "cell_type": "code",
   "execution_count": null,
   "id": "9e104da8-9aec-4ebe-8f74-fdd0b9b54416",
   "metadata": {},
   "outputs": [],
   "source": [
    "# PART 1 :\n",
    "\n",
    "def new_coords(point1, point2):\n",
    "    r1, c1 = point1[0], point1[1]\n",
    "    r2, c2 = point2[0], point2[1]\n",
    "    dr = r2 - r1\n",
    "    dc = c2 - c1\n",
    "    new_p1 = (r1 - dr, c1 - dc)\n",
    "    new_p2 = (r2 + dr, c2 + dc)\n",
    "\n",
    "    valid_points = set()\n",
    "    if 0 <= new_p1[0] < len(input) and 0 <= new_p1[1] < len(input[0]):\n",
    "        valid_points.add(new_p1)\n",
    "    if 0 <= new_p2[0] < len(input) and 0 <= new_p2[1] < len(input[0]):\n",
    "        valid_points.add(new_p2)\n",
    "    return valid_points\n",
    "\n",
    "positions = defaultdict(list)\n",
    "for r, row in enumerate(input):\n",
    "    for c, val in enumerate(row):\n",
    "        if val != '.':\n",
    "            positions[val].append((r, c))\n",
    "            \n",
    "hashpos = set()\n",
    "for letter, coords in positions.items():\n",
    "    for (point1), (point2) in combinations(coords, 2):\n",
    "        items = (new_coords((point1), (point2)))\n",
    "        hashpos.update(items)\n",
    "\n",
    "len(hashpos)"
   ]
  },
  {
   "cell_type": "code",
   "execution_count": null,
   "id": "b48b199c-90ca-470a-afb3-81dd53d613fa",
   "metadata": {},
   "outputs": [],
   "source": [
    "# PART 2 :\n",
    "\n",
    "def new_coords(point1, point2):\n",
    "    r1, c1 = point1[0], point1[1]\n",
    "    r2, c2 = point2[0], point2[1]\n",
    "    dr = r2 - r1\n",
    "    dc = c2 - c1\n",
    "    valid_points = set()\n",
    "    \n",
    "    for i in range(len(input)):\n",
    "        new_p1 = (r1 - dr * i, c1 - dc * i)\n",
    "        if 0 <= new_p1[0] < len(input) and 0 <= new_p1[1] < len(input[0]):\n",
    "            valid_points.add(new_p1)\n",
    "        else:\n",
    "            break\n",
    "        \n",
    "    for i in range(len(input)):\n",
    "        new_p2 = (r2 + dr * i, c2 + dc * i)\n",
    "        if 0 <= new_p2[0] < len(input) and 0 <= new_p2[1] < len(input[0]):\n",
    "            valid_points.add(new_p2)    \n",
    "        else:\n",
    "            break\n",
    "    return valid_points\n",
    "\n",
    "positions = defaultdict(list)\n",
    "for r, row in enumerate(input):\n",
    "    for c, val in enumerate(row):\n",
    "        if val != '.':\n",
    "            positions[val].append((r, c))\n",
    "            \n",
    "hashpos = set()\n",
    "for letter, coords in positions.items():\n",
    "    for (point1), (point2) in combinations(coords, 2):\n",
    "        items = (new_coords((point1), (point2)))\n",
    "        hashpos.update(items)\n",
    "\n",
    "len(hashpos)"
   ]
  }
 ],
 "metadata": {
  "kernelspec": {
   "display_name": "Pylearn",
   "language": "python",
   "name": "python3"
  },
  "language_info": {
   "codemirror_mode": {
    "name": "ipython",
    "version": 3
   },
   "file_extension": ".py",
   "mimetype": "text/x-python",
   "name": "python",
   "nbconvert_exporter": "python",
   "pygments_lexer": "ipython3",
   "version": "3.13.1"
  }
 },
 "nbformat": 4,
 "nbformat_minor": 5
}
