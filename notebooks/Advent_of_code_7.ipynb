{
 "cells": [
  {
   "cell_type": "code",
   "execution_count": 1,
   "id": "c84effa7-7ebb-435a-82d8-a3c95a7b5a18",
   "metadata": {},
   "outputs": [],
   "source": [
    "from tqdm import tqdm \n",
    "from itertools import product\n",
    "\n",
    "input = open(\"inputs/input_day_7.txt\", \"r\").read().splitlines()\n",
    "\n"
   ]
  },
  {
   "cell_type": "code",
   "execution_count": 96,
   "id": "317e3c23-0db0-4619-8da5-e9ff45368142",
   "metadata": {},
   "outputs": [],
   "source": [
    "goals = [int(row.split(':')[0]) for row in input if ':' in row and row]\n",
    "numbers = [[int(num) for num in row.split(':')[1].split()] for row in input if ':' in row and row]"
   ]
  },
  {
   "cell_type": "code",
   "execution_count": 28,
   "id": "0f1c4ca7-3556-4c73-a550-3621deecf4af",
   "metadata": {},
   "outputs": [
    {
     "name": "stderr",
     "output_type": "stream",
     "text": [
      "100%|██████████████████████████████████████████████████████████████████████████████| 850/850 [00:00<00:00, 1958.53it/s]\n"
     ]
    },
    {
     "data": {
      "text/plain": [
       "3312271365652"
      ]
     },
     "execution_count": 28,
     "metadata": {},
     "output_type": "execute_result"
    }
   ],
   "source": [
    "# Part 1:\n",
    "def update(symbol, eq, new_num):\n",
    "    if symbol == '+':\n",
    "        eq += new_num\n",
    "    if symbol == '*':\n",
    "        eq *= new_num\n",
    "    if symbol == '|':\n",
    "        eq = int(f\"{eq}{new_num}\")\n",
    "    return eq\n",
    "\n",
    "def check_sym(combos, numbers, goal):    \n",
    "    for combo in combos:\n",
    "        eq = numbers[0] \n",
    "        for num in range(1, len(numbers)):  \n",
    "            eq = update(combo[num-1], eq, numbers[num])\n",
    "        if eq == goal:\n",
    "            return True\n",
    "\n",
    "sym = ['+', '*']\n",
    "correct = 0\n",
    "for num in tqdm(range(len(goals))):\n",
    "    num_row = numbers[num]\n",
    "    goal = goals[num]\n",
    "    combos = product(sym, repeat=len(num_row)-1)\n",
    "    if check_sym(combos, num_row, goal):\n",
    "        correct += goal\n",
    "correct"
   ]
  },
  {
   "cell_type": "code",
   "execution_count": 30,
   "id": "b06e70ef-022d-43d5-9ff7-36b82af55c36",
   "metadata": {},
   "outputs": [
    {
     "name": "stderr",
     "output_type": "stream",
     "text": [
      "100%|████████████████████████████████████████████████████████████████████████████████| 850/850 [00:27<00:00, 30.47it/s]\n"
     ]
    },
    {
     "data": {
      "text/plain": [
       "509463489296712"
      ]
     },
     "execution_count": 30,
     "metadata": {},
     "output_type": "execute_result"
    }
   ],
   "source": [
    "# Part 2:\n",
    "goals = [int(row.split(':')[0]) for row in input if ':' in row and row]\n",
    "numbers = [[int(num) for num in row.split(':')[1].split()] for row in input if ':' in row and row]\n",
    "def update(symbol, eq, new_num):\n",
    "    if symbol == '+':\n",
    "        eq += new_num\n",
    "    if symbol == '*':\n",
    "        eq *= new_num\n",
    "    if symbol == '|':\n",
    "        eq = int(f\"{eq}{new_num}\")\n",
    "    return eq\n",
    "\n",
    "def check_sym(combos, numbers, goal):    \n",
    "    for combo in combos:\n",
    "        eq = numbers[0] \n",
    "        for num in range(1, len(numbers)):  \n",
    "            eq = update(combo[num-1], eq, numbers[num])\n",
    "        if eq == goal:\n",
    "            return True\n",
    "\n",
    "sym = ['+', '*', '|']\n",
    "correct = 0\n",
    "for num in tqdm(range(len(goals))):\n",
    "    num_row = numbers[num]\n",
    "    goal = goals[num]\n",
    "    combos = product(sym, repeat=len(num_row)-1)\n",
    "    if check_sym(combos, num_row, goal):\n",
    "        correct += goal\n",
    "correct"
   ]
  },
  {
   "cell_type": "code",
   "execution_count": 23,
   "id": "7f03d37f-fba2-4126-ae91-5a7f5cc47e8c",
   "metadata": {},
   "outputs": [
    {
     "name": "stderr",
     "output_type": "stream",
     "text": [
      "100%|████████████████████████████████████████████████████████████████████████████████| 850/850 [00:25<00:00, 32.87it/s]\n"
     ]
    },
    {
     "name": "stdout",
     "output_type": "stream",
     "text": [
      "509463489296712\n"
     ]
    }
   ],
   "source": [
    "from itertools import product\n",
    "from tqdm import tqdm\n",
    "\n",
    "# Parse goals and numbers from input\n",
    "goals = [int(row.split(':')[0]) for row in input if ':' in row and row]\n",
    "numbers = [[int(num) for num in row.split(':')[1].split()] for row in input if ':' in row and row]\n",
    "\n",
    "def update(symbol, eq, new_num):\n",
    "    \"\"\"\n",
    "    Update the equation based on the given symbol.\n",
    "    \n",
    "    Args:\n",
    "        symbol (str): One of '+', '*', or '|'.\n",
    "        eq (int): The current equation value.\n",
    "        new_num (int): The next number to incorporate.\n",
    "    \n",
    "    Returns:\n",
    "        int: The updated equation value.\n",
    "    \"\"\"\n",
    "    if symbol == '+':\n",
    "        return eq + new_num\n",
    "    elif symbol == '*':\n",
    "        return eq * new_num\n",
    "    elif symbol == '|':\n",
    "        return int(f\"{eq}{new_num}\")\n",
    "    return eq\n",
    "\n",
    "def check_goal(numbers, goal):\n",
    "    \"\"\"\n",
    "    Check if there exists a combination of symbols that results in the goal.\n",
    "    \n",
    "    Args:\n",
    "        numbers (list): The numbers to operate on.\n",
    "        goal (int): The target goal to reach.\n",
    "    \n",
    "    Returns:\n",
    "        bool: True if a valid combination exists, False otherwise.\n",
    "    \"\"\"\n",
    "    for combination in product(['+', '*', '|'], repeat=len(numbers) - 1):\n",
    "        eq = numbers[0]\n",
    "        for i, symbol in enumerate(combination):\n",
    "            eq = update(symbol, eq, numbers[i + 1])\n",
    "            if eq > goal:  # Early stopping if value exceeds goal\n",
    "                break\n",
    "        if eq == goal:\n",
    "            return True\n",
    "    return False\n",
    "\n",
    "total_correct = 0\n",
    "\n",
    "# Use tqdm for progress tracking\n",
    "for num_row, goal in tqdm(zip(numbers, goals), total=len(goals)):\n",
    "    if check_goal(num_row, goal):\n",
    "        total_correct += goal\n",
    "\n",
    "print(total_correct)\n"
   ]
  },
  {
   "cell_type": "code",
   "execution_count": 25,
   "id": "44395901-e787-4976-911b-c53a5e20534f",
   "metadata": {},
   "outputs": [
    {
     "name": "stderr",
     "output_type": "stream",
     "text": [
      "850it [00:11, 74.48it/s] \n"
     ]
    }
   ],
   "source": [
    "from itertools import product\n",
    "from math import log10\n",
    "\n",
    "def update(eq, op, new_num):\n",
    "    if op == '+':\n",
    "        return eq + new_num\n",
    "    elif op == '*':\n",
    "        return eq * new_num\n",
    "    elif op == '|':\n",
    "        # Instead of string concatenation, do numeric concatenation\n",
    "        # eq|new_num = eq * (10^(digits_in_new_num)) + new_num\n",
    "        digits = int(log10(new_num)) + 1 if new_num > 0 else 1\n",
    "        return eq * (10**digits) + new_num\n",
    "    return eq\n",
    "\n",
    "def can_form_goal(numbers, goal):\n",
    "    n = len(numbers)\n",
    "    if n == 1:\n",
    "        return numbers[0] == goal\n",
    "    \n",
    "    sym = ['+', '*', '|']\n",
    "    # Pre-calculate digit lengths to speed up concatenation operations\n",
    "    digit_lengths = [int(log10(x)) + 1 if x > 0 else 1 for x in numbers]\n",
    "\n",
    "    # Try all combinations of operations\n",
    "    for combo in product(sym, repeat=n-1):\n",
    "        eq = numbers[0]\n",
    "        for i, op in enumerate(combo, start=1):\n",
    "            if op == '+':\n",
    "                eq += numbers[i]\n",
    "            elif op == '*':\n",
    "                eq *= numbers[i]\n",
    "            else:  # op == '|'\n",
    "                eq = eq * (10**digit_lengths[i]) + numbers[i]\n",
    "        if eq == goal:\n",
    "            return True\n",
    "    return False\n",
    "\n",
    "# Example usage:\n",
    "goals = [int(row.split(':')[0]) for row in input if ':' in row and row]\n",
    "numbers = [[int(num) for num in row.split(':')[1].split()] for row in input if ':' in row and row]\n",
    "total_correct = 0\n",
    "for g, nums in tqdm(zip(goals, numbers)):\n",
    "    if can_form_goal(nums, g):\n",
    "        total_correct += g\n"
   ]
  },
  {
   "cell_type": "code",
   "execution_count": 26,
   "id": "480dd6cc-9cbe-4819-b4db-a810d76e2126",
   "metadata": {},
   "outputs": [
    {
     "data": {
      "text/plain": [
       "509463489296712"
      ]
     },
     "execution_count": 26,
     "metadata": {},
     "output_type": "execute_result"
    }
   ],
   "source": [
    "total_correct"
   ]
  },
  {
   "cell_type": "code",
   "execution_count": 128,
   "id": "f35038ad-e5a1-462c-8343-74911dbc0694",
   "metadata": {},
   "outputs": [
    {
     "data": {
      "text/plain": [
       "42"
      ]
     },
     "execution_count": 128,
     "metadata": {},
     "output_type": "execute_result"
    }
   ],
   "source": [
    "sym = ['+', '*']\n",
    "correct = []\n",
    "for num in tqdm(range(len(goals))):\n",
    "    combos = product(sym, repeat=len(numbers[num])-1)\n",
    "    for combo in combos:\n",
    "        eq = numbers[num][0] \n",
    "        for s in range(1, len(numbers[num])):  \n",
    "            eq = update(combo[s-1], eq, numbers[num][s])\n",
    "        if eq == goals[num]:\n",
    "            correct.append(goals[num])\n",
    "            break\n",
    "sum(correct)"
   ]
  },
  {
   "cell_type": "code",
   "execution_count": 119,
   "id": "b7d69cc5-193a-41f0-a8f0-ded217f139f4",
   "metadata": {},
   "outputs": [
    {
     "data": {
      "text/plain": [
       "12"
      ]
     },
     "execution_count": 119,
     "metadata": {},
     "output_type": "execute_result"
    }
   ],
   "source": [
    "a = 1\n",
    "b = 2\n",
    "int(f\"{a}{b}\")"
   ]
  },
  {
   "cell_type": "code",
   "execution_count": 49,
   "id": "1673c8c7-eae1-4425-8cef-a2fa44b23a01",
   "metadata": {},
   "outputs": [
    {
     "name": "stdout",
     "output_type": "stream",
     "text": [
      "1+2+3+4\n",
      "10\n",
      "1+2+3*4\n",
      "15\n",
      "1+2*3+4\n",
      "11\n",
      "1+2*3*4\n",
      "25\n",
      "1*2+3+4\n",
      "9\n",
      "1*2+3*4\n",
      "14\n",
      "1*2*3+4\n",
      "10\n",
      "1*2*3*4\n",
      "24\n"
     ]
    }
   ],
   "source": [
    "\n",
    "numtest = [1, 2, 3, 4]  # Example list of numbers\n",
    "sym = ['+', '*']\n",
    "eq = []\n",
    "\n",
    "combos = product(sym, repeat=len(numtest)-1)\n",
    "for combo in combos:\n",
    "    eq +=\n",
    "    print(eq)\n",
    "    print(eval(eq))"
   ]
  },
  {
   "cell_type": "code",
   "execution_count": 46,
   "id": "7c26ce7c-cb79-4569-a393-e09d4e5cbb38",
   "metadata": {},
   "outputs": [
    {
     "data": {
      "text/plain": [
       "[1, 2, 3]"
      ]
     },
     "execution_count": 46,
     "metadata": {},
     "output_type": "execute_result"
    }
   ],
   "source": [
    "numtest"
   ]
  },
  {
   "cell_type": "code",
   "execution_count": 30,
   "id": "94b2d4de-0513-41a0-add6-2bb481b4a77c",
   "metadata": {},
   "outputs": [
    {
     "data": {
      "text/plain": [
       "{('*', '*', '*'),\n",
       " ('*', '*', '+'),\n",
       " ('*', '+', '*'),\n",
       " ('*', '+', '+'),\n",
       " ('+', '*', '*'),\n",
       " ('+', '*', '+'),\n",
       " ('+', '+', '*'),\n",
       " ('+', '+', '+')}"
      ]
     },
     "execution_count": 30,
     "metadata": {},
     "output_type": "execute_result"
    }
   ],
   "source": [
    "from itertools import product\n",
    "\n",
    "n = [\"+\", \"*\"]\n",
    "\n",
    "result = product(n, repeat=3) # Changing repeat to 4\n",
    "set(result)"
   ]
  }
 ],
 "metadata": {
  "kernelspec": {
   "display_name": "Pylearn",
   "language": "python",
   "name": "python3"
  },
  "language_info": {
   "codemirror_mode": {
    "name": "ipython",
    "version": 3
   },
   "file_extension": ".py",
   "mimetype": "text/x-python",
   "name": "python",
   "nbconvert_exporter": "python",
   "pygments_lexer": "ipython3",
   "version": "3.13.1"
  }
 },
 "nbformat": 4,
 "nbformat_minor": 5
}
